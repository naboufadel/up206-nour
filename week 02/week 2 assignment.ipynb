{
 "cells": [
  {
   "cell_type": "markdown",
   "id": "7d8e10ab-cb5f-403d-8803-ff88340fa2b3",
   "metadata": {},
   "source": [
    "## Introduction\n",
    "\n",
    "My data looks at Methane procuding landfills in LA County. This data includes the site name, number, location and district. "
   ]
  },
  {
   "cell_type": "markdown",
   "id": "8462dc6c-74ef-446f-b08c-461c246d1a2c",
   "metadata": {},
   "source": [
    "## Data Exploration"
   ]
  },
  {
   "cell_type": "markdown",
   "id": "9c326b73-7417-46d7-b116-da9d1a481c01",
   "metadata": {},
   "source": [
    "### 1. Import geopanda"
   ]
  },
  {
   "cell_type": "code",
   "execution_count": 5,
   "id": "4daaa946-000e-420d-9d84-321ef6edcb7a",
   "metadata": {},
   "outputs": [],
   "source": [
    "import geopandas as gpd"
   ]
  },
  {
   "cell_type": "markdown",
   "id": "9fc70334-9675-4576-8560-c16644293e11",
   "metadata": {},
   "source": [
    "### 2. Import data in csv file. I downloaded the data from Los Angles Geohub"
   ]
  },
  {
   "cell_type": "code",
   "execution_count": 6,
   "id": "4b93dcd0-3c41-4586-932b-feaef5d02943",
   "metadata": {},
   "outputs": [],
   "source": [
    "landfills = gpd.read_file('Methane_Producing_Landfills.geojson')"
   ]
  },
  {
   "cell_type": "markdown",
   "id": "eab3e3fc-0dad-449b-85ca-406e18104dd3",
   "metadata": {},
   "source": [
    "### 3. What's the data type?"
   ]
  },
  {
   "cell_type": "code",
   "execution_count": 8,
   "id": "3dfdfd85-8a15-4ba6-bcad-a62c59a67d46",
   "metadata": {},
   "outputs": [
    {
     "data": {
      "text/plain": [
       "geopandas.geodataframe.GeoDataFrame"
      ]
     },
     "execution_count": 8,
     "metadata": {},
     "output_type": "execute_result"
    }
   ],
   "source": [
    "type(landfills)"
   ]
  },
  {
   "cell_type": "markdown",
   "id": "45cd1fa4-f7e1-4b21-9443-7106451b8da0",
   "metadata": {},
   "source": [
    "### 4. What does the data look like?"
   ]
  },
  {
   "cell_type": "code",
   "execution_count": 9,
   "id": "d56d3cec-a4bd-42fd-9840-9ff39549fdae",
   "metadata": {},
   "outputs": [
    {
     "data": {
      "text/html": [
       "<div>\n",
       "<style scoped>\n",
       "    .dataframe tbody tr th:only-of-type {\n",
       "        vertical-align: middle;\n",
       "    }\n",
       "\n",
       "    .dataframe tbody tr th {\n",
       "        vertical-align: top;\n",
       "    }\n",
       "\n",
       "    .dataframe thead th {\n",
       "        text-align: right;\n",
       "    }\n",
       "</style>\n",
       "<table border=\"1\" class=\"dataframe\">\n",
       "  <thead>\n",
       "    <tr style=\"text-align: right;\">\n",
       "      <th></th>\n",
       "      <th>OBJECTID</th>\n",
       "      <th>SITE_NUM</th>\n",
       "      <th>NAME</th>\n",
       "      <th>SHAPEAREA</th>\n",
       "      <th>SHAPELEN</th>\n",
       "      <th>NUM</th>\n",
       "      <th>SUP_DISTRICT</th>\n",
       "      <th>geometry</th>\n",
       "    </tr>\n",
       "  </thead>\n",
       "  <tbody>\n",
       "    <tr>\n",
       "      <th>0</th>\n",
       "      <td>2</td>\n",
       "      <td>2012</td>\n",
       "      <td>Russell Moe Landfill</td>\n",
       "      <td>2.165331e+06</td>\n",
       "      <td>6624.595836</td>\n",
       "      <td>204-157-752</td>\n",
       "      <td>3</td>\n",
       "      <td>POLYGON ((-118.40271 34.29349, -118.40282 34.2...</td>\n",
       "    </tr>\n",
       "    <tr>\n",
       "      <th>1</th>\n",
       "      <td>3</td>\n",
       "      <td>1949</td>\n",
       "      <td>Gladding McBean Dump</td>\n",
       "      <td>4.487916e+05</td>\n",
       "      <td>3035.853919</td>\n",
       "      <td>114-117-550</td>\n",
       "      <td>3</td>\n",
       "      <td>POLYGON ((-118.47156 34.02893, -118.47225 34.0...</td>\n",
       "    </tr>\n",
       "    <tr>\n",
       "      <th>2</th>\n",
       "      <td>4</td>\n",
       "      <td>1889</td>\n",
       "      <td>Cal Compact LF/Metro 2000</td>\n",
       "      <td>7.352565e+06</td>\n",
       "      <td>12231.683028</td>\n",
       "      <td>054-197-404</td>\n",
       "      <td>2</td>\n",
       "      <td>POLYGON ((-118.27164 33.84618, -118.27179 33.8...</td>\n",
       "    </tr>\n",
       "    <tr>\n",
       "      <th>3</th>\n",
       "      <td>5</td>\n",
       "      <td>1946</td>\n",
       "      <td>General Tile</td>\n",
       "      <td>8.486350e+05</td>\n",
       "      <td>3980.914743</td>\n",
       "      <td>084-157-446</td>\n",
       "      <td>4</td>\n",
       "      <td>POLYGON ((-118.41062 33.92218, -118.41123 33.9...</td>\n",
       "    </tr>\n",
       "    <tr>\n",
       "      <th>4</th>\n",
       "      <td>6</td>\n",
       "      <td>1897</td>\n",
       "      <td>Centinela Ave Dump</td>\n",
       "      <td>1.036129e+06</td>\n",
       "      <td>4192.380859</td>\n",
       "      <td>084-157-442</td>\n",
       "      <td>2</td>\n",
       "      <td>POLYGON ((-118.37257 33.97973, -118.37286 33.9...</td>\n",
       "    </tr>\n",
       "  </tbody>\n",
       "</table>\n",
       "</div>"
      ],
      "text/plain": [
       "   OBJECTID SITE_NUM                       NAME     SHAPEAREA      SHAPELEN  \\\n",
       "0         2     2012       Russell Moe Landfill  2.165331e+06   6624.595836   \n",
       "1         3     1949       Gladding McBean Dump  4.487916e+05   3035.853919   \n",
       "2         4     1889  Cal Compact LF/Metro 2000  7.352565e+06  12231.683028   \n",
       "3         5     1946               General Tile  8.486350e+05   3980.914743   \n",
       "4         6     1897         Centinela Ave Dump  1.036129e+06   4192.380859   \n",
       "\n",
       "           NUM SUP_DISTRICT                                           geometry  \n",
       "0  204-157-752            3  POLYGON ((-118.40271 34.29349, -118.40282 34.2...  \n",
       "1  114-117-550            3  POLYGON ((-118.47156 34.02893, -118.47225 34.0...  \n",
       "2  054-197-404            2  POLYGON ((-118.27164 33.84618, -118.27179 33.8...  \n",
       "3  084-157-446            4  POLYGON ((-118.41062 33.92218, -118.41123 33.9...  \n",
       "4  084-157-442            2  POLYGON ((-118.37257 33.97973, -118.37286 33.9...  "
      ]
     },
     "execution_count": 9,
     "metadata": {},
     "output_type": "execute_result"
    }
   ],
   "source": [
    "landfills.head()"
   ]
  },
  {
   "cell_type": "markdown",
   "id": "1dd13d5c-5a81-403e-8e70-e5f37934e1e5",
   "metadata": {},
   "source": [
    "### 5. What do the last 5 rows look like?"
   ]
  },
  {
   "cell_type": "code",
   "execution_count": 12,
   "id": "76a36e30-204d-4832-bc48-412d063df117",
   "metadata": {},
   "outputs": [
    {
     "data": {
      "text/html": [
       "<div>\n",
       "<style scoped>\n",
       "    .dataframe tbody tr th:only-of-type {\n",
       "        vertical-align: middle;\n",
       "    }\n",
       "\n",
       "    .dataframe tbody tr th {\n",
       "        vertical-align: top;\n",
       "    }\n",
       "\n",
       "    .dataframe thead th {\n",
       "        text-align: right;\n",
       "    }\n",
       "</style>\n",
       "<table border=\"1\" class=\"dataframe\">\n",
       "  <thead>\n",
       "    <tr style=\"text-align: right;\">\n",
       "      <th></th>\n",
       "      <th>OBJECTID</th>\n",
       "      <th>SITE_NUM</th>\n",
       "      <th>NAME</th>\n",
       "      <th>SHAPEAREA</th>\n",
       "      <th>SHAPELEN</th>\n",
       "      <th>NUM</th>\n",
       "      <th>SUP_DISTRICT</th>\n",
       "      <th>geometry</th>\n",
       "    </tr>\n",
       "  </thead>\n",
       "  <tbody>\n",
       "    <tr>\n",
       "      <th>641</th>\n",
       "      <td>8645</td>\n",
       "      <td>3625</td>\n",
       "      <td>R Big Continental</td>\n",
       "      <td>7814.160373</td>\n",
       "      <td>313.760521</td>\n",
       "      <td>None</td>\n",
       "      <td>5</td>\n",
       "      <td>POLYGON ((-118.59319 34.24285, -118.59322 34.2...</td>\n",
       "    </tr>\n",
       "    <tr>\n",
       "      <th>642</th>\n",
       "      <td>8646</td>\n",
       "      <td>3626</td>\n",
       "      <td>Rancho Disposal Service</td>\n",
       "      <td>7814.171696</td>\n",
       "      <td>313.760748</td>\n",
       "      <td>None</td>\n",
       "      <td></td>\n",
       "      <td>POLYGON ((-117.48904 34.07459, -117.48906 34.0...</td>\n",
       "    </tr>\n",
       "    <tr>\n",
       "      <th>643</th>\n",
       "      <td>8647</td>\n",
       "      <td>3627</td>\n",
       "      <td>Pomona Valley Transfer Station</td>\n",
       "      <td>7814.167756</td>\n",
       "      <td>313.760669</td>\n",
       "      <td>TS</td>\n",
       "      <td>1</td>\n",
       "      <td>POLYGON ((-117.72853 34.05216, -117.72855 34.0...</td>\n",
       "    </tr>\n",
       "    <tr>\n",
       "      <th>644</th>\n",
       "      <td>8648</td>\n",
       "      <td>274</td>\n",
       "      <td>City of Culver City (Waste Hauler)</td>\n",
       "      <td>7814.167756</td>\n",
       "      <td>313.760669</td>\n",
       "      <td>None</td>\n",
       "      <td>2</td>\n",
       "      <td>POLYGON ((-118.38859 34.01598, -118.38862 34.0...</td>\n",
       "    </tr>\n",
       "    <tr>\n",
       "      <th>645</th>\n",
       "      <td>8649</td>\n",
       "      <td>3865</td>\n",
       "      <td>H. M. Holloway</td>\n",
       "      <td>7814.167833</td>\n",
       "      <td>313.760671</td>\n",
       "      <td>None</td>\n",
       "      <td></td>\n",
       "      <td>POLYGON ((-119.77248 35.65796, -119.77251 35.6...</td>\n",
       "    </tr>\n",
       "  </tbody>\n",
       "</table>\n",
       "</div>"
      ],
      "text/plain": [
       "     OBJECTID SITE_NUM                                NAME    SHAPEAREA  \\\n",
       "641      8645     3625                   R Big Continental  7814.160373   \n",
       "642      8646     3626             Rancho Disposal Service  7814.171696   \n",
       "643      8647     3627      Pomona Valley Transfer Station  7814.167756   \n",
       "644      8648      274  City of Culver City (Waste Hauler)  7814.167756   \n",
       "645      8649     3865                      H. M. Holloway  7814.167833   \n",
       "\n",
       "       SHAPELEN   NUM SUP_DISTRICT  \\\n",
       "641  313.760521  None            5   \n",
       "642  313.760748  None                \n",
       "643  313.760669    TS            1   \n",
       "644  313.760669  None            2   \n",
       "645  313.760671  None                \n",
       "\n",
       "                                              geometry  \n",
       "641  POLYGON ((-118.59319 34.24285, -118.59322 34.2...  \n",
       "642  POLYGON ((-117.48904 34.07459, -117.48906 34.0...  \n",
       "643  POLYGON ((-117.72853 34.05216, -117.72855 34.0...  \n",
       "644  POLYGON ((-118.38859 34.01598, -118.38862 34.0...  \n",
       "645  POLYGON ((-119.77248 35.65796, -119.77251 35.6...  "
      ]
     },
     "execution_count": 12,
     "metadata": {},
     "output_type": "execute_result"
    }
   ],
   "source": [
    "landfills.tail()"
   ]
  },
  {
   "cell_type": "markdown",
   "id": "5db6d05b-5119-4a6f-ac83-9450cb865e5b",
   "metadata": {},
   "source": [
    "### 6. What are the data types for each column?"
   ]
  },
  {
   "cell_type": "code",
   "execution_count": 13,
   "id": "301a2d25-567a-497d-b316-3c10eb7dd9a7",
   "metadata": {},
   "outputs": [
    {
     "data": {
      "text/plain": [
       "OBJECTID           int64\n",
       "SITE_NUM          object\n",
       "NAME              object\n",
       "SHAPEAREA        float64\n",
       "SHAPELEN         float64\n",
       "NUM               object\n",
       "SUP_DISTRICT      object\n",
       "geometry        geometry\n",
       "dtype: object"
      ]
     },
     "execution_count": 13,
     "metadata": {},
     "output_type": "execute_result"
    }
   ],
   "source": [
    "landfills.dtypes"
   ]
  },
  {
   "cell_type": "code",
   "execution_count": 14,
   "id": "4f4bbeed-8a48-4fd6-b82f-ce6f366f6dc7",
   "metadata": {},
   "outputs": [],
   "source": [
    "#or"
   ]
  },
  {
   "cell_type": "code",
   "execution_count": 15,
   "id": "3ff865e5-d191-4cd5-9330-3afb725b1c63",
   "metadata": {},
   "outputs": [
    {
     "data": {
      "text/plain": [
       "<bound method DataFrame.info of      OBJECTID SITE_NUM                                NAME     SHAPEAREA  \\\n",
       "0           2     2012                Russell Moe Landfill  2.165331e+06   \n",
       "1           3     1949                Gladding McBean Dump  4.487916e+05   \n",
       "2           4     1889           Cal Compact LF/Metro 2000  7.352565e+06   \n",
       "3           5     1946                        General Tile  8.486350e+05   \n",
       "4           6     1897                  Centinela Ave Dump  1.036129e+06   \n",
       "..        ...      ...                                 ...           ...   \n",
       "641      8645     3625                   R Big Continental  7.814160e+03   \n",
       "642      8646     3626             Rancho Disposal Service  7.814172e+03   \n",
       "643      8647     3627      Pomona Valley Transfer Station  7.814168e+03   \n",
       "644      8648      274  City of Culver City (Waste Hauler)  7.814168e+03   \n",
       "645      8649     3865                      H. M. Holloway  7.814168e+03   \n",
       "\n",
       "         SHAPELEN          NUM SUP_DISTRICT  \\\n",
       "0     6624.595836  204-157-752            3   \n",
       "1     3035.853919  114-117-550            3   \n",
       "2    12231.683028  054-197-404            2   \n",
       "3     3980.914743  084-157-446            4   \n",
       "4     4192.380859  084-157-442            2   \n",
       "..            ...          ...          ...   \n",
       "641    313.760521         None            5   \n",
       "642    313.760748         None                \n",
       "643    313.760669           TS            1   \n",
       "644    313.760669         None            2   \n",
       "645    313.760671         None                \n",
       "\n",
       "                                              geometry  \n",
       "0    POLYGON ((-118.40271 34.29349, -118.40282 34.2...  \n",
       "1    POLYGON ((-118.47156 34.02893, -118.47225 34.0...  \n",
       "2    POLYGON ((-118.27164 33.84618, -118.27179 33.8...  \n",
       "3    POLYGON ((-118.41062 33.92218, -118.41123 33.9...  \n",
       "4    POLYGON ((-118.37257 33.97973, -118.37286 33.9...  \n",
       "..                                                 ...  \n",
       "641  POLYGON ((-118.59319 34.24285, -118.59322 34.2...  \n",
       "642  POLYGON ((-117.48904 34.07459, -117.48906 34.0...  \n",
       "643  POLYGON ((-117.72853 34.05216, -117.72855 34.0...  \n",
       "644  POLYGON ((-118.38859 34.01598, -118.38862 34.0...  \n",
       "645  POLYGON ((-119.77248 35.65796, -119.77251 35.6...  \n",
       "\n",
       "[646 rows x 8 columns]>"
      ]
     },
     "execution_count": 15,
     "metadata": {},
     "output_type": "execute_result"
    }
   ],
   "source": [
    "landfills.info"
   ]
  },
  {
   "cell_type": "markdown",
   "id": "30cbfd74-093e-4a69-8b7b-939db95921a4",
   "metadata": {},
   "source": [
    "### 7. How many rows and columns are there in the data?"
   ]
  },
  {
   "cell_type": "code",
   "execution_count": 17,
   "id": "f7d405dc-aaef-43b0-9e53-ac7747fe8082",
   "metadata": {},
   "outputs": [
    {
     "data": {
      "text/plain": [
       "(646, 8)"
      ]
     },
     "execution_count": 17,
     "metadata": {},
     "output_type": "execute_result"
    }
   ],
   "source": [
    "landfills.shape"
   ]
  },
  {
   "cell_type": "code",
   "execution_count": 18,
   "id": "7f80b823-b85b-4c96-898a-abc69a574695",
   "metadata": {},
   "outputs": [],
   "source": [
    "# So we have 646 rows and 8 columns"
   ]
  },
  {
   "cell_type": "markdown",
   "id": "8c475dab-abf0-4887-a090-166cd863f722",
   "metadata": {},
   "source": [
    "### 8. What are the columns in the data? "
   ]
  },
  {
   "cell_type": "code",
   "execution_count": 19,
   "id": "0c52c2c7-4044-40a9-9157-5824677252e4",
   "metadata": {},
   "outputs": [
    {
     "data": {
      "text/plain": [
       "['OBJECTID',\n",
       " 'SITE_NUM',\n",
       " 'NAME',\n",
       " 'SHAPEAREA',\n",
       " 'SHAPELEN',\n",
       " 'NUM',\n",
       " 'SUP_DISTRICT',\n",
       " 'geometry']"
      ]
     },
     "execution_count": 19,
     "metadata": {},
     "output_type": "execute_result"
    }
   ],
   "source": [
    "landfills.columns.to_list()"
   ]
  },
  {
   "cell_type": "markdown",
   "id": "f6ede1e1-58e3-42c6-b88b-88a06829795b",
   "metadata": {},
   "source": [
    "### 9. Looking at a sample from the Supervisor District column"
   ]
  },
  {
   "cell_type": "code",
   "execution_count": 22,
   "id": "ce03013e-4615-4fb0-8bf9-7621cf595618",
   "metadata": {},
   "outputs": [
    {
     "data": {
      "text/plain": [
       "0      3\n",
       "1      3\n",
       "2      2\n",
       "3      4\n",
       "4      2\n",
       "      ..\n",
       "641    5\n",
       "642     \n",
       "643    1\n",
       "644    2\n",
       "645     \n",
       "Name: SUP_DISTRICT, Length: 646, dtype: object"
      ]
     },
     "execution_count": 22,
     "metadata": {},
     "output_type": "execute_result"
    }
   ],
   "source": [
    "landfills.SUP_DISTRICT"
   ]
  },
  {
   "cell_type": "markdown",
   "id": "b120b55f-6c10-4f27-acd4-b7340805c4b2",
   "metadata": {},
   "source": [
    "### 10. How many sites fall under each district?"
   ]
  },
  {
   "cell_type": "code",
   "execution_count": 25,
   "id": "732da67b-2d35-4e20-a52f-1d635b66c938",
   "metadata": {},
   "outputs": [
    {
     "data": {
      "text/plain": [
       "1       168\n",
       "2       112\n",
       "4       106\n",
       "5        98\n",
       "         90\n",
       "3        71\n",
       "1, 2      1\n",
       "Name: SUP_DISTRICT, dtype: int64"
      ]
     },
     "execution_count": 25,
     "metadata": {},
     "output_type": "execute_result"
    }
   ],
   "source": [
    "landfills['SUP_DISTRICT'].value_counts()"
   ]
  },
  {
   "cell_type": "code",
   "execution_count": 26,
   "id": "d128817b-84db-47c3-a1d1-26799b010ebf",
   "metadata": {},
   "outputs": [],
   "source": [
    "## Now we can see how many sites fall under each supervisory district in LA County. For example, there are 106 Methane producing landfill sites in Supervisory District 4 in LA County"
   ]
  },
  {
   "cell_type": "markdown",
   "id": "522545dc-6492-4614-89a8-b9f39916499a",
   "metadata": {},
   "source": [
    "### 11. Save the site counts above as a variable"
   ]
  },
  {
   "cell_type": "code",
   "execution_count": 30,
   "id": "092bba37-0824-4cb2-8b9c-ca088c52d54c",
   "metadata": {},
   "outputs": [
    {
     "data": {
      "text/plain": [
       "1       168\n",
       "2       112\n",
       "4       106\n",
       "5        98\n",
       "         90\n",
       "3        71\n",
       "1, 2      1\n",
       "Name: SUP_DISTRICT, dtype: int64"
      ]
     },
     "execution_count": 30,
     "metadata": {},
     "output_type": "execute_result"
    }
   ],
   "source": [
    "district_count=landfills['SUP_DISTRICT'].value_counts()\n",
    "district_count"
   ]
  },
  {
   "cell_type": "markdown",
   "id": "4b6f7810-62bf-46e4-82a9-ffd95eba4522",
   "metadata": {},
   "source": [
    "### 12. Convert the series to a data frame"
   ]
  },
  {
   "cell_type": "code",
   "execution_count": 32,
   "id": "f498db76-6ae6-47d0-8923-df4584c489ed",
   "metadata": {},
   "outputs": [
    {
     "data": {
      "text/html": [
       "<div>\n",
       "<style scoped>\n",
       "    .dataframe tbody tr th:only-of-type {\n",
       "        vertical-align: middle;\n",
       "    }\n",
       "\n",
       "    .dataframe tbody tr th {\n",
       "        vertical-align: top;\n",
       "    }\n",
       "\n",
       "    .dataframe thead th {\n",
       "        text-align: right;\n",
       "    }\n",
       "</style>\n",
       "<table border=\"1\" class=\"dataframe\">\n",
       "  <thead>\n",
       "    <tr style=\"text-align: right;\">\n",
       "      <th></th>\n",
       "      <th>index</th>\n",
       "      <th>SUP_DISTRICT</th>\n",
       "    </tr>\n",
       "  </thead>\n",
       "  <tbody>\n",
       "    <tr>\n",
       "      <th>0</th>\n",
       "      <td>1</td>\n",
       "      <td>168</td>\n",
       "    </tr>\n",
       "    <tr>\n",
       "      <th>1</th>\n",
       "      <td>2</td>\n",
       "      <td>112</td>\n",
       "    </tr>\n",
       "    <tr>\n",
       "      <th>2</th>\n",
       "      <td>4</td>\n",
       "      <td>106</td>\n",
       "    </tr>\n",
       "    <tr>\n",
       "      <th>3</th>\n",
       "      <td>5</td>\n",
       "      <td>98</td>\n",
       "    </tr>\n",
       "    <tr>\n",
       "      <th>4</th>\n",
       "      <td></td>\n",
       "      <td>90</td>\n",
       "    </tr>\n",
       "    <tr>\n",
       "      <th>5</th>\n",
       "      <td>3</td>\n",
       "      <td>71</td>\n",
       "    </tr>\n",
       "    <tr>\n",
       "      <th>6</th>\n",
       "      <td>1, 2</td>\n",
       "      <td>1</td>\n",
       "    </tr>\n",
       "  </tbody>\n",
       "</table>\n",
       "</div>"
      ],
      "text/plain": [
       "  index  SUP_DISTRICT\n",
       "0     1           168\n",
       "1     2           112\n",
       "2     4           106\n",
       "3     5            98\n",
       "4                  90\n",
       "5     3            71\n",
       "6  1, 2             1"
      ]
     },
     "execution_count": 32,
     "metadata": {},
     "output_type": "execute_result"
    }
   ],
   "source": [
    "district_count=district_count.reset_index()\n",
    "district_count"
   ]
  },
  {
   "cell_type": "markdown",
   "id": "ad0aa860-5ea8-4406-9ede-4774b697e60b",
   "metadata": {},
   "source": [
    "### 13. Create a plot"
   ]
  },
  {
   "cell_type": "code",
   "execution_count": 34,
   "id": "5a32f525-9f17-4b75-8960-a99b07f4dfb4",
   "metadata": {},
   "outputs": [
    {
     "data": {
      "text/plain": [
       "<AxesSubplot:>"
      ]
     },
     "execution_count": 34,
     "metadata": {},
     "output_type": "execute_result"
    },
    {
     "data": {
      "image/png": "[encoded data removed]",
      "text/plain": [
       "<Figure size 432x288 with 1 Axes>"
      ]
     },
     "metadata": {
      "needs_background": "light"
     },
     "output_type": "display_data"
    }
   ],
   "source": [
    "district_count.plot()"
   ]
  },
  {
   "cell_type": "markdown",
   "id": "a6beb344-3892-417c-b678-11e4480496ab",
   "metadata": {},
   "source": [
    "### 14. Trimming the data"
   ]
  },
  {
   "cell_type": "code",
   "execution_count": 52,
   "id": "3af53093-142b-4323-b8a3-474c4c48bd4e",
   "metadata": {},
   "outputs": [
    {
     "data": {
      "text/html": [
       "<div>\n",
       "<style scoped>\n",
       "    .dataframe tbody tr th:only-of-type {\n",
       "        vertical-align: middle;\n",
       "    }\n",
       "\n",
       "    .dataframe tbody tr th {\n",
       "        vertical-align: top;\n",
       "    }\n",
       "\n",
       "    .dataframe thead th {\n",
       "        text-align: right;\n",
       "    }\n",
       "</style>\n",
       "<table border=\"1\" class=\"dataframe\">\n",
       "  <thead>\n",
       "    <tr style=\"text-align: right;\">\n",
       "      <th></th>\n",
       "      <th>SITE_NUM</th>\n",
       "      <th>NAME</th>\n",
       "      <th>NUM</th>\n",
       "      <th>SUP_DISTRICT</th>\n",
       "    </tr>\n",
       "  </thead>\n",
       "  <tbody>\n",
       "    <tr>\n",
       "      <th>0</th>\n",
       "      <td>2012</td>\n",
       "      <td>Russell Moe Landfill</td>\n",
       "      <td>204-157-752</td>\n",
       "      <td>3</td>\n",
       "    </tr>\n",
       "    <tr>\n",
       "      <th>1</th>\n",
       "      <td>1949</td>\n",
       "      <td>Gladding McBean Dump</td>\n",
       "      <td>114-117-550</td>\n",
       "      <td>3</td>\n",
       "    </tr>\n",
       "    <tr>\n",
       "      <th>2</th>\n",
       "      <td>1889</td>\n",
       "      <td>Cal Compact LF/Metro 2000</td>\n",
       "      <td>054-197-404</td>\n",
       "      <td>2</td>\n",
       "    </tr>\n",
       "    <tr>\n",
       "      <th>3</th>\n",
       "      <td>1946</td>\n",
       "      <td>General Tile</td>\n",
       "      <td>084-157-446</td>\n",
       "      <td>4</td>\n",
       "    </tr>\n",
       "    <tr>\n",
       "      <th>4</th>\n",
       "      <td>1897</td>\n",
       "      <td>Centinela Ave Dump</td>\n",
       "      <td>084-157-442</td>\n",
       "      <td>2</td>\n",
       "    </tr>\n",
       "    <tr>\n",
       "      <th>...</th>\n",
       "      <td>...</td>\n",
       "      <td>...</td>\n",
       "      <td>...</td>\n",
       "      <td>...</td>\n",
       "    </tr>\n",
       "    <tr>\n",
       "      <th>641</th>\n",
       "      <td>3625</td>\n",
       "      <td>R Big Continental</td>\n",
       "      <td>None</td>\n",
       "      <td>5</td>\n",
       "    </tr>\n",
       "    <tr>\n",
       "      <th>642</th>\n",
       "      <td>3626</td>\n",
       "      <td>Rancho Disposal Service</td>\n",
       "      <td>None</td>\n",
       "      <td></td>\n",
       "    </tr>\n",
       "    <tr>\n",
       "      <th>643</th>\n",
       "      <td>3627</td>\n",
       "      <td>Pomona Valley Transfer Station</td>\n",
       "      <td>TS</td>\n",
       "      <td>1</td>\n",
       "    </tr>\n",
       "    <tr>\n",
       "      <th>644</th>\n",
       "      <td>274</td>\n",
       "      <td>City of Culver City (Waste Hauler)</td>\n",
       "      <td>None</td>\n",
       "      <td>2</td>\n",
       "    </tr>\n",
       "    <tr>\n",
       "      <th>645</th>\n",
       "      <td>3865</td>\n",
       "      <td>H. M. Holloway</td>\n",
       "      <td>None</td>\n",
       "      <td></td>\n",
       "    </tr>\n",
       "  </tbody>\n",
       "</table>\n",
       "<p>646 rows × 4 columns</p>\n",
       "</div>"
      ],
      "text/plain": [
       "    SITE_NUM                                NAME          NUM SUP_DISTRICT\n",
       "0       2012                Russell Moe Landfill  204-157-752            3\n",
       "1       1949                Gladding McBean Dump  114-117-550            3\n",
       "2       1889           Cal Compact LF/Metro 2000  054-197-404            2\n",
       "3       1946                        General Tile  084-157-446            4\n",
       "4       1897                  Centinela Ave Dump  084-157-442            2\n",
       "..       ...                                 ...          ...          ...\n",
       "641     3625                   R Big Continental         None            5\n",
       "642     3626             Rancho Disposal Service         None             \n",
       "643     3627      Pomona Valley Transfer Station           TS            1\n",
       "644      274  City of Culver City (Waste Hauler)         None            2\n",
       "645     3865                      H. M. Holloway         None             \n",
       "\n",
       "[646 rows x 4 columns]"
      ]
     },
     "execution_count": 52,
     "metadata": {},
     "output_type": "execute_result"
    }
   ],
   "source": [
    "desired_columns = ['SITE_NUM', 'NAME', 'NUM', 'SUP_DISTRICT']\n",
    "\n",
    "landfills_trimmed = landfills[desired_columns].copy()\n",
    "landfills_trimmed"
   ]
  },
  {
   "cell_type": "markdown",
   "id": "e81f93eb-6f5d-41c7-a2f7-8ed8c3f2ec5c",
   "metadata": {},
   "source": [
    "### 15. Filter query to look at supervisor district 4"
   ]
  },
  {
   "cell_type": "code",
   "execution_count": 53,
   "id": "f4640d63-eee9-4fb9-b28f-da89a0d9036b",
   "metadata": {},
   "outputs": [
    {
     "data": {
      "text/html": [
       "<div>\n",
       "<style scoped>\n",
       "    .dataframe tbody tr th:only-of-type {\n",
       "        vertical-align: middle;\n",
       "    }\n",
       "\n",
       "    .dataframe tbody tr th {\n",
       "        vertical-align: top;\n",
       "    }\n",
       "\n",
       "    .dataframe thead th {\n",
       "        text-align: right;\n",
       "    }\n",
       "</style>\n",
       "<table border=\"1\" class=\"dataframe\">\n",
       "  <thead>\n",
       "    <tr style=\"text-align: right;\">\n",
       "      <th></th>\n",
       "      <th>SITE_NUM</th>\n",
       "      <th>NAME</th>\n",
       "      <th>NUM</th>\n",
       "      <th>SUP_DISTRICT</th>\n",
       "    </tr>\n",
       "  </thead>\n",
       "  <tbody>\n",
       "    <tr>\n",
       "      <th>3</th>\n",
       "      <td>1946</td>\n",
       "      <td>General Tile</td>\n",
       "      <td>084-157-446</td>\n",
       "      <td>4</td>\n",
       "    </tr>\n",
       "    <tr>\n",
       "      <th>7</th>\n",
       "      <td>1953</td>\n",
       "      <td>Guirardo Dump</td>\n",
       "      <td>084-237-489</td>\n",
       "      <td>4</td>\n",
       "    </tr>\n",
       "    <tr>\n",
       "      <th>8</th>\n",
       "      <td>525</td>\n",
       "      <td>Chandler's Palos Verdes Sand</td>\n",
       "      <td>024-157-119</td>\n",
       "      <td>4</td>\n",
       "    </tr>\n",
       "    <tr>\n",
       "      <th>15</th>\n",
       "      <td>2009</td>\n",
       "      <td>Rosecrans Ave / Woodruff Ave Dump</td>\n",
       "      <td>054-237-424</td>\n",
       "      <td>4</td>\n",
       "    </tr>\n",
       "    <tr>\n",
       "      <th>19</th>\n",
       "      <td>1976</td>\n",
       "      <td>Landfill Associates</td>\n",
       "      <td>054-157-136</td>\n",
       "      <td>4</td>\n",
       "    </tr>\n",
       "    <tr>\n",
       "      <th>...</th>\n",
       "      <td>...</td>\n",
       "      <td>...</td>\n",
       "      <td>...</td>\n",
       "      <td>...</td>\n",
       "    </tr>\n",
       "    <tr>\n",
       "      <th>544</th>\n",
       "      <td>2504</td>\n",
       "      <td>EDCO Recycling and Transfer</td>\n",
       "      <td>TS</td>\n",
       "      <td>4</td>\n",
       "    </tr>\n",
       "    <tr>\n",
       "      <th>564</th>\n",
       "      <td>2768</td>\n",
       "      <td>Harbor Mulching Facility</td>\n",
       "      <td>None</td>\n",
       "      <td>4</td>\n",
       "    </tr>\n",
       "    <tr>\n",
       "      <th>571</th>\n",
       "      <td>2775</td>\n",
       "      <td>Greencycle, Inc.</td>\n",
       "      <td>None</td>\n",
       "      <td>4</td>\n",
       "    </tr>\n",
       "    <tr>\n",
       "      <th>574</th>\n",
       "      <td>2777</td>\n",
       "      <td>Norwalk Industries Green Waste Operation</td>\n",
       "      <td>None</td>\n",
       "      <td>4</td>\n",
       "    </tr>\n",
       "    <tr>\n",
       "      <th>635</th>\n",
       "      <td>2664</td>\n",
       "      <td>Potential Industries</td>\n",
       "      <td>None</td>\n",
       "      <td>4</td>\n",
       "    </tr>\n",
       "  </tbody>\n",
       "</table>\n",
       "<p>106 rows × 4 columns</p>\n",
       "</div>"
      ],
      "text/plain": [
       "    SITE_NUM                                      NAME          NUM  \\\n",
       "3       1946                              General Tile  084-157-446   \n",
       "7       1953                             Guirardo Dump  084-237-489   \n",
       "8        525              Chandler's Palos Verdes Sand  024-157-119   \n",
       "15      2009         Rosecrans Ave / Woodruff Ave Dump  054-237-424   \n",
       "19      1976                       Landfill Associates  054-157-136   \n",
       "..       ...                                       ...          ...   \n",
       "544     2504               EDCO Recycling and Transfer           TS   \n",
       "564     2768                  Harbor Mulching Facility         None   \n",
       "571     2775                          Greencycle, Inc.         None   \n",
       "574     2777  Norwalk Industries Green Waste Operation         None   \n",
       "635     2664                      Potential Industries         None   \n",
       "\n",
       "    SUP_DISTRICT  \n",
       "3              4  \n",
       "7              4  \n",
       "8              4  \n",
       "15             4  \n",
       "19             4  \n",
       "..           ...  \n",
       "544            4  \n",
       "564            4  \n",
       "571            4  \n",
       "574            4  \n",
       "635            4  \n",
       "\n",
       "[106 rows x 4 columns]"
      ]
     },
     "execution_count": 53,
     "metadata": {},
     "output_type": "execute_result"
    }
   ],
   "source": [
    "landfills_trimmed[landfills_trimmed.SUP_DISTRICT == '4']"
   ]
  },
  {
   "cell_type": "code",
   "execution_count": null,
   "id": "da2230e2-493e-4e5e-a7d9-fdf3bd64e2a9",
   "metadata": {},
   "outputs": [],
   "source": []
  }
 ],
 "metadata": {
  "kernelspec": {
   "display_name": "Python 3 (ipykernel)",
   "language": "python",
   "name": "python3"
  },
  "language_info": {
   "codemirror_mode": {
    "name": "ipython",
    "version": 3
   },
   "file_extension": ".py",
   "mimetype": "text/x-python",
   "name": "python",
   "nbconvert_exporter": "python",
   "pygments_lexer": "ipython3",
   "version": "3.9.6"
  }
 },
 "nbformat": 4,
 "nbformat_minor": 5
}
